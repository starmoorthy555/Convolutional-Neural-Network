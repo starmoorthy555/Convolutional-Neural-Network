{
  "cells": [
    {
      "cell_type": "markdown",
      "source": [
        "Importing Library"
      ],
      "metadata": {
        "id": "bBN8ZJoYWluk"
      }
    },
    {
      "cell_type": "code",
      "execution_count": null,
      "metadata": {
        "id": "CW4QPe3T1YFK"
      },
      "outputs": [],
      "source": [
        "from PIL import Image\n",
        "import numpy as np\n",
        "import matplotlib.pyplot as plt\n",
        "import random\n",
        "import os"
      ]
    },
    {
      "cell_type": "markdown",
      "source": [
        "Importing and Reading Data"
      ],
      "metadata": {
        "id": "GooXlMSLWpoB"
      }
    },
    {
      "cell_type": "code",
      "execution_count": null,
      "metadata": {
        "id": "yKchUW1Q2Fbg"
      },
      "outputs": [],
      "source": [
        "images = []\n",
        "labels = []"
      ]
    },
    {
      "cell_type": "code",
      "execution_count": null,
      "metadata": {
        "id": "GtP4MNpF2Lx5"
      },
      "outputs": [],
      "source": [
        "for label_path in os.listdir(\"/content/drive/MyDrive/images\"):\n",
        "  im = os.listdir(os.path.join(\"/content/drive/MyDrive/images\",label_path))\n",
        "  im = [ random.choice(im) for i in range (100)]\n",
        "  for image_path in im:\n",
        "    img = Image.open(os.path.join(\"/content/drive/MyDrive/images\",label_path,image_path))\n",
        "    img.mode != 'RGB'\n",
        "    img = img.convert('RGB')\n",
        "    arr = np.array(img)\n",
        "    resized_img = np.array(Image.fromarray(arr).resize((64,64)))\n",
        "    images.append(resized_img)\n",
        "    labels.append(label_path)"
      ]
    },
    {
      "cell_type": "code",
      "source": [
        "x = np.array(images)\n",
        "y = np.array(labels)"
      ],
      "metadata": {
        "id": "k-kLNrI9CAoF"
      },
      "execution_count": null,
      "outputs": []
    },
    {
      "cell_type": "code",
      "source": [
        "y"
      ],
      "metadata": {
        "colab": {
          "base_uri": "https://localhost:8080/"
        },
        "id": "-cLBA8dNCmdS",
        "outputId": "6ce7ed9c-0d77-4f1f-ac8e-667310de694c"
      },
      "execution_count": null,
      "outputs": [
        {
          "output_type": "execute_result",
          "data": {
            "text/plain": [
              "array(['cats', 'cats', 'cats', 'cats', 'cats', 'cats', 'cats', 'cats',\n",
              "       'cats', 'cats', 'cats', 'cats', 'cats', 'cats', 'cats', 'cats',\n",
              "       'cats', 'cats', 'cats', 'cats', 'cats', 'cats', 'cats', 'cats',\n",
              "       'cats', 'cats', 'cats', 'cats', 'cats', 'cats', 'cats', 'cats',\n",
              "       'cats', 'cats', 'cats', 'cats', 'cats', 'cats', 'cats', 'cats',\n",
              "       'cats', 'cats', 'cats', 'cats', 'cats', 'cats', 'cats', 'cats',\n",
              "       'cats', 'cats', 'cats', 'cats', 'cats', 'cats', 'cats', 'cats',\n",
              "       'cats', 'cats', 'cats', 'cats', 'cats', 'cats', 'cats', 'cats',\n",
              "       'cats', 'cats', 'cats', 'cats', 'cats', 'cats', 'cats', 'cats',\n",
              "       'cats', 'cats', 'cats', 'cats', 'cats', 'cats', 'cats', 'cats',\n",
              "       'cats', 'cats', 'cats', 'cats', 'cats', 'cats', 'cats', 'cats',\n",
              "       'cats', 'cats', 'cats', 'cats', 'cats', 'cats', 'cats', 'cats',\n",
              "       'cats', 'cats', 'cats', 'cats', 'dogs', 'dogs', 'dogs', 'dogs',\n",
              "       'dogs', 'dogs', 'dogs', 'dogs', 'dogs', 'dogs', 'dogs', 'dogs',\n",
              "       'dogs', 'dogs', 'dogs', 'dogs', 'dogs', 'dogs', 'dogs', 'dogs',\n",
              "       'dogs', 'dogs', 'dogs', 'dogs', 'dogs', 'dogs', 'dogs', 'dogs',\n",
              "       'dogs', 'dogs', 'dogs', 'dogs', 'dogs', 'dogs', 'dogs', 'dogs',\n",
              "       'dogs', 'dogs', 'dogs', 'dogs', 'dogs', 'dogs', 'dogs', 'dogs',\n",
              "       'dogs', 'dogs', 'dogs', 'dogs', 'dogs', 'dogs', 'dogs', 'dogs',\n",
              "       'dogs', 'dogs', 'dogs', 'dogs', 'dogs', 'dogs', 'dogs', 'dogs',\n",
              "       'dogs', 'dogs', 'dogs', 'dogs', 'dogs', 'dogs', 'dogs', 'dogs',\n",
              "       'dogs', 'dogs', 'dogs', 'dogs', 'dogs', 'dogs', 'dogs', 'dogs',\n",
              "       'dogs', 'dogs', 'dogs', 'dogs', 'dogs', 'dogs', 'dogs', 'dogs',\n",
              "       'dogs', 'dogs', 'dogs', 'dogs', 'dogs', 'dogs', 'dogs', 'dogs',\n",
              "       'dogs', 'dogs', 'dogs', 'dogs', 'dogs', 'dogs', 'dogs', 'dogs'],\n",
              "      dtype='<U4')"
            ]
          },
          "metadata": {},
          "execution_count": 5
        }
      ]
    },
    {
      "cell_type": "code",
      "source": [
        "x = x/255"
      ],
      "metadata": {
        "id": "Gf_DMPvfCLpl"
      },
      "execution_count": null,
      "outputs": []
    },
    {
      "cell_type": "markdown",
      "source": [
        "Encoding the String value into Catagerical value"
      ],
      "metadata": {
        "id": "jrDOCQIoW1QQ"
      }
    },
    {
      "cell_type": "code",
      "source": [
        "from sklearn.preprocessing import LabelEncoder\n",
        "le = LabelEncoder()\n",
        "y = le.fit_transform(y)"
      ],
      "metadata": {
        "id": "jKGZV_JbCVZp"
      },
      "execution_count": null,
      "outputs": []
    },
    {
      "cell_type": "markdown",
      "source": [
        "Spliting the Train and Test Data"
      ],
      "metadata": {
        "id": "ETk5GQvlW9IU"
      }
    },
    {
      "cell_type": "code",
      "source": [
        "from sklearn.model_selection import train_test_split\n",
        "x_train,x_test_total,y_train,y_test_total = train_test_split(x,y, test_size =0.25, random_state=0)\n",
        "x_test,x_val,y_test,y_val = train_test_split(x_test_total,y_test_total, test_size = 0.25, random_state = 0)"
      ],
      "metadata": {
        "id": "5rXGJ-SJC1Bu"
      },
      "execution_count": null,
      "outputs": []
    },
    {
      "cell_type": "markdown",
      "source": [
        "Importing Library"
      ],
      "metadata": {
        "id": "ZDrW1GNeXEFy"
      }
    },
    {
      "cell_type": "code",
      "source": [
        "import keras\n",
        "from keras.models import Sequential\n",
        "from keras.layers import Conv2D\n",
        "from keras.layers import MaxPooling2D\n",
        "from keras.layers import Flatten\n",
        "from keras.layers import Dense\n"
      ],
      "metadata": {
        "id": "ZRqfsk5kDwCS"
      },
      "execution_count": null,
      "outputs": []
    },
    {
      "cell_type": "code",
      "source": [
        "model = Sequential()"
      ],
      "metadata": {
        "id": "JjCe6ya6Ee5e"
      },
      "execution_count": null,
      "outputs": []
    },
    {
      "cell_type": "markdown",
      "source": [
        "Convolutional Layer and MaxPooling Layer"
      ],
      "metadata": {
        "id": "p2Kd53nAXIQJ"
      }
    },
    {
      "cell_type": "code",
      "source": [
        "model.add(Conv2D(filters=16,kernel_size=(3,3),activation = 'relu',input_shape=(64,64,3)))\n",
        "model.add(MaxPooling2D((2,2)))"
      ],
      "metadata": {
        "id": "zSt5JugLElE4"
      },
      "execution_count": null,
      "outputs": []
    },
    {
      "cell_type": "code",
      "source": [
        "model.add(Conv2D(filters=32,kernel_size=(3,3),activation = 'relu'))\n",
        "model.add(MaxPooling2D((2,2)))"
      ],
      "metadata": {
        "id": "_nLm5KPEGrnd"
      },
      "execution_count": null,
      "outputs": []
    },
    {
      "cell_type": "markdown",
      "source": [
        "Flattening the Layer"
      ],
      "metadata": {
        "id": "PNfKuTxnXSOj"
      }
    },
    {
      "cell_type": "code",
      "source": [
        "model.add(Flatten())"
      ],
      "metadata": {
        "id": "C3cgi8kmHg3K"
      },
      "execution_count": null,
      "outputs": []
    },
    {
      "cell_type": "markdown",
      "source": [
        "Creating Neural Network"
      ],
      "metadata": {
        "id": "R_CtBBKIXYPN"
      }
    },
    {
      "cell_type": "code",
      "source": [
        "model.add(Dense(kernel_initializer='uniform',activation='relu',units = 100))\n",
        "model.add(Dense(units=100,kernel_initializer='uniform',activation='relu'))\n",
        "model.add(Dense(units=1,activation='sigmoid'))"
      ],
      "metadata": {
        "id": "ZNZeV247Hn-s"
      },
      "execution_count": null,
      "outputs": []
    },
    {
      "cell_type": "markdown",
      "source": [
        "Compiling the Model"
      ],
      "metadata": {
        "id": "pMkkswmCXdk2"
      }
    },
    {
      "cell_type": "code",
      "source": [
        "model.compile(loss='binary_crossentropy',metrics=['acc'],optimizer='adam')"
      ],
      "metadata": {
        "id": "SdQgI0MzIX_b"
      },
      "execution_count": null,
      "outputs": []
    },
    {
      "cell_type": "markdown",
      "source": [
        "Fit the Model"
      ],
      "metadata": {
        "id": "zVhlu74LXiUA"
      }
    },
    {
      "cell_type": "code",
      "source": [
        "h=model.fit(x_train,y_train,validation_data=(x_val,y_val),epochs =30,batch_size=100)"
      ],
      "metadata": {
        "colab": {
          "base_uri": "https://localhost:8080/"
        },
        "id": "yVGVTdG8JBn0",
        "outputId": "74661c2c-7dd7-4dc9-fb97-effbda20d80e"
      },
      "execution_count": null,
      "outputs": [
        {
          "output_type": "stream",
          "name": "stdout",
          "text": [
            "Epoch 1/30\n",
            "2/2 [==============================] - 0s 194ms/step - loss: 0.0183 - acc: 1.0000 - val_loss: 0.5031 - val_acc: 0.8462\n",
            "Epoch 2/30\n",
            "2/2 [==============================] - 0s 177ms/step - loss: 0.0921 - acc: 0.9800 - val_loss: 0.5728 - val_acc: 0.8462\n",
            "Epoch 3/30\n",
            "2/2 [==============================] - 0s 165ms/step - loss: 0.0166 - acc: 0.9933 - val_loss: 1.2259 - val_acc: 0.5385\n",
            "Epoch 4/30\n",
            "2/2 [==============================] - 0s 160ms/step - loss: 0.0638 - acc: 0.9933 - val_loss: 1.1653 - val_acc: 0.5385\n",
            "Epoch 5/30\n",
            "2/2 [==============================] - 0s 163ms/step - loss: 0.0309 - acc: 0.9933 - val_loss: 0.6840 - val_acc: 0.8462\n",
            "Epoch 6/30\n",
            "2/2 [==============================] - 0s 160ms/step - loss: 0.0104 - acc: 1.0000 - val_loss: 0.5333 - val_acc: 0.8462\n",
            "Epoch 7/30\n",
            "2/2 [==============================] - 0s 170ms/step - loss: 0.0434 - acc: 0.9933 - val_loss: 0.5792 - val_acc: 0.8462\n",
            "Epoch 8/30\n",
            "2/2 [==============================] - 0s 160ms/step - loss: 0.0186 - acc: 0.9933 - val_loss: 0.8093 - val_acc: 0.8462\n",
            "Epoch 9/30\n",
            "2/2 [==============================] - 0s 165ms/step - loss: 0.0077 - acc: 1.0000 - val_loss: 1.0992 - val_acc: 0.6154\n",
            "Epoch 10/30\n",
            "2/2 [==============================] - 0s 169ms/step - loss: 0.0191 - acc: 1.0000 - val_loss: 1.1754 - val_acc: 0.5385\n",
            "Epoch 11/30\n",
            "2/2 [==============================] - 0s 162ms/step - loss: 0.0204 - acc: 0.9933 - val_loss: 0.9900 - val_acc: 0.6923\n",
            "Epoch 12/30\n",
            "2/2 [==============================] - 0s 164ms/step - loss: 0.0085 - acc: 1.0000 - val_loss: 0.8435 - val_acc: 0.8462\n",
            "Epoch 13/30\n",
            "2/2 [==============================] - 0s 164ms/step - loss: 0.0041 - acc: 1.0000 - val_loss: 0.7725 - val_acc: 0.8462\n",
            "Epoch 14/30\n",
            "2/2 [==============================] - 1s 340ms/step - loss: 0.0065 - acc: 1.0000 - val_loss: 0.7475 - val_acc: 0.8462\n",
            "Epoch 15/30\n",
            "2/2 [==============================] - 1s 170ms/step - loss: 0.0069 - acc: 1.0000 - val_loss: 0.7765 - val_acc: 0.8462\n",
            "Epoch 16/30\n",
            "2/2 [==============================] - 0s 168ms/step - loss: 0.0038 - acc: 1.0000 - val_loss: 0.8357 - val_acc: 0.8462\n",
            "Epoch 17/30\n",
            "2/2 [==============================] - 0s 162ms/step - loss: 0.0026 - acc: 1.0000 - val_loss: 0.9053 - val_acc: 0.8462\n",
            "Epoch 18/30\n",
            "2/2 [==============================] - 0s 167ms/step - loss: 0.0021 - acc: 1.0000 - val_loss: 0.9700 - val_acc: 0.8462\n",
            "Epoch 19/30\n",
            "2/2 [==============================] - 0s 214ms/step - loss: 0.0026 - acc: 1.0000 - val_loss: 1.0197 - val_acc: 0.7692\n",
            "Epoch 20/30\n",
            "2/2 [==============================] - 1s 366ms/step - loss: 0.0026 - acc: 1.0000 - val_loss: 1.0376 - val_acc: 0.7692\n",
            "Epoch 21/30\n",
            "2/2 [==============================] - 1s 297ms/step - loss: 0.0022 - acc: 1.0000 - val_loss: 1.0307 - val_acc: 0.8462\n",
            "Epoch 22/30\n",
            "2/2 [==============================] - 1s 230ms/step - loss: 0.0017 - acc: 1.0000 - val_loss: 1.0091 - val_acc: 0.8462\n",
            "Epoch 23/30\n",
            "2/2 [==============================] - 1s 270ms/step - loss: 0.0012 - acc: 1.0000 - val_loss: 0.9877 - val_acc: 0.8462\n",
            "Epoch 24/30\n",
            "2/2 [==============================] - 1s 249ms/step - loss: 9.6907e-04 - acc: 1.0000 - val_loss: 0.9692 - val_acc: 0.8462\n",
            "Epoch 25/30\n",
            "2/2 [==============================] - 0s 161ms/step - loss: 7.8646e-04 - acc: 1.0000 - val_loss: 0.9583 - val_acc: 0.8462\n",
            "Epoch 26/30\n",
            "2/2 [==============================] - 0s 164ms/step - loss: 7.4603e-04 - acc: 1.0000 - val_loss: 0.9538 - val_acc: 0.8462\n",
            "Epoch 27/30\n",
            "2/2 [==============================] - 0s 163ms/step - loss: 7.1918e-04 - acc: 1.0000 - val_loss: 0.9551 - val_acc: 0.8462\n",
            "Epoch 28/30\n",
            "2/2 [==============================] - 0s 160ms/step - loss: 7.0574e-04 - acc: 1.0000 - val_loss: 0.9615 - val_acc: 0.8462\n",
            "Epoch 29/30\n",
            "2/2 [==============================] - 0s 159ms/step - loss: 6.8186e-04 - acc: 1.0000 - val_loss: 0.9721 - val_acc: 0.8462\n",
            "Epoch 30/30\n",
            "2/2 [==============================] - 0s 160ms/step - loss: 6.3970e-04 - acc: 1.0000 - val_loss: 0.9862 - val_acc: 0.8462\n"
          ]
        }
      ]
    },
    {
      "cell_type": "code",
      "source": [
        "import matplotlib.pyplot as plt\n",
        "plt.plot(h.history['acc'],label='training')\n",
        "plt.plot(h.history['val_acc'],label = 'val_train')\n",
        "plt.legend()\n",
        "plt.show()"
      ],
      "metadata": {
        "colab": {
          "base_uri": "https://localhost:8080/",
          "height": 265
        },
        "id": "Vn-h_rsZgk5d",
        "outputId": "82c534ce-ce4c-4333-bb9a-c996cc9333b2"
      },
      "execution_count": null,
      "outputs": [
        {
          "output_type": "display_data",
          "data": {
            "image/png": "[encoded data removed]",
            "text/plain": [
              "<Figure size 432x288 with 1 Axes>"
            ]
          },
          "metadata": {
            "needs_background": "light"
          }
        }
      ]
    }
  ],
  "metadata": {
    "colab": {
      "name": "Convolutional Neural Network.ipynb",
      "provenance": [],
      "collapsed_sections": []
    },
    "kernelspec": {
      "display_name": "Python 3",
      "name": "python3"
    },
    "language_info": {
      "name": "python"
    }
  },
  "nbformat": 4,
  "nbformat_minor": 0
}